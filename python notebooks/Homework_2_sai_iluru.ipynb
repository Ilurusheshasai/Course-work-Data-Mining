{
 "cells": [
  {
   "cell_type": "code",
   "execution_count": 1,
   "id": "9ed87e5d",
   "metadata": {},
   "outputs": [],
   "source": [
    "# ! pip install ydata-profiling"
   ]
  },
  {
   "cell_type": "code",
   "execution_count": 2,
   "id": "ff45970e",
   "metadata": {},
   "outputs": [],
   "source": [
    "import numpy as np\n",
    "import pandas as pd\n",
    "from ydata_profiling import ProfileReport"
   ]
  },
  {
   "cell_type": "code",
   "execution_count": 3,
   "id": "31b3ccfd",
   "metadata": {},
   "outputs": [
    {
     "data": {
      "text/html": [
       "<div>\n",
       "<style scoped>\n",
       "    .dataframe tbody tr th:only-of-type {\n",
       "        vertical-align: middle;\n",
       "    }\n",
       "\n",
       "    .dataframe tbody tr th {\n",
       "        vertical-align: top;\n",
       "    }\n",
       "\n",
       "    .dataframe thead th {\n",
       "        text-align: right;\n",
       "    }\n",
       "</style>\n",
       "<table border=\"1\" class=\"dataframe\">\n",
       "  <thead>\n",
       "    <tr style=\"text-align: right;\">\n",
       "      <th></th>\n",
       "      <th>citric acid</th>\n",
       "      <th>sulphates</th>\n",
       "      <th>alcohol</th>\n",
       "      <th>type</th>\n",
       "    </tr>\n",
       "  </thead>\n",
       "  <tbody>\n",
       "    <tr>\n",
       "      <th>0</th>\n",
       "      <td>0.49</td>\n",
       "      <td>0.63</td>\n",
       "      <td>8.0</td>\n",
       "      <td>low</td>\n",
       "    </tr>\n",
       "    <tr>\n",
       "      <th>1</th>\n",
       "      <td>0.66</td>\n",
       "      <td>0.57</td>\n",
       "      <td>8.3</td>\n",
       "      <td>low</td>\n",
       "    </tr>\n",
       "    <tr>\n",
       "      <th>2</th>\n",
       "      <td>0.23</td>\n",
       "      <td>0.44</td>\n",
       "      <td>8.5</td>\n",
       "      <td>high</td>\n",
       "    </tr>\n",
       "    <tr>\n",
       "      <th>3</th>\n",
       "      <td>0.44</td>\n",
       "      <td>0.84</td>\n",
       "      <td>8.6</td>\n",
       "      <td>low</td>\n",
       "    </tr>\n",
       "    <tr>\n",
       "      <th>4</th>\n",
       "      <td>0.08</td>\n",
       "      <td>0.50</td>\n",
       "      <td>8.7</td>\n",
       "      <td>low</td>\n",
       "    </tr>\n",
       "  </tbody>\n",
       "</table>\n",
       "</div>"
      ],
      "text/plain": [
       "   citric acid  sulphates  alcohol  type\n",
       "0         0.49       0.63      8.0   low\n",
       "1         0.66       0.57      8.3   low\n",
       "2         0.23       0.44      8.5  high\n",
       "3         0.44       0.84      8.6   low\n",
       "4         0.08       0.50      8.7   low"
      ]
     },
     "execution_count": 3,
     "metadata": {},
     "output_type": "execute_result"
    }
   ],
   "source": [
    "df = pd.read_csv(\"red_wine.csv\")\n",
    "df.head()"
   ]
  },
  {
   "cell_type": "code",
   "execution_count": 4,
   "id": "448701e5",
   "metadata": {},
   "outputs": [],
   "source": [
    "profile = ProfileReport(df, title=\"Profiling Report\")\n",
    "#profile.to_notebook_iframe()"
   ]
  },
  {
   "cell_type": "code",
   "execution_count": 5,
   "id": "0b091dfd",
   "metadata": {},
   "outputs": [
    {
     "data": {
      "application/vnd.jupyter.widget-view+json": {
       "model_id": "7d81e44caa544f66aabf9a4e132aa291",
       "version_major": 2,
       "version_minor": 0
      },
      "text/plain": [
       "Summarize dataset:   0%|          | 0/5 [00:00<?, ?it/s]"
      ]
     },
     "metadata": {},
     "output_type": "display_data"
    },
    {
     "data": {
      "application/vnd.jupyter.widget-view+json": {
       "model_id": "3aac4ecbc4994177a42669d97a8ad86e",
       "version_major": 2,
       "version_minor": 0
      },
      "text/plain": [
       "Generate report structure:   0%|          | 0/1 [00:00<?, ?it/s]"
      ]
     },
     "metadata": {},
     "output_type": "display_data"
    },
    {
     "data": {
      "application/vnd.jupyter.widget-view+json": {
       "model_id": "42074de00d964941825c427c5fb9c712",
       "version_major": 2,
       "version_minor": 0
      },
      "text/plain": [
       "Render HTML:   0%|          | 0/1 [00:00<?, ?it/s]"
      ]
     },
     "metadata": {},
     "output_type": "display_data"
    },
    {
     "data": {
      "application/vnd.jupyter.widget-view+json": {
       "model_id": "24528e5977c74b4680e222f2921d4aa8",
       "version_major": 2,
       "version_minor": 0
      },
      "text/plain": [
       "Export report to file:   0%|          | 0/1 [00:00<?, ?it/s]"
      ]
     },
     "metadata": {},
     "output_type": "display_data"
    }
   ],
   "source": [
    "profile.to_file(\"your_report.html\")"
   ]
  },
  {
   "cell_type": "markdown",
   "id": "32680a6b",
   "metadata": {},
   "source": [
    "# TASK 3\n",
    "### Question 2"
   ]
  },
  {
   "cell_type": "code",
   "execution_count": 6,
   "id": "8ff82114",
   "metadata": {
    "scrolled": true
   },
   "outputs": [
    {
     "data": {
      "text/html": [
       "<div>\n",
       "<style scoped>\n",
       "    .dataframe tbody tr th:only-of-type {\n",
       "        vertical-align: middle;\n",
       "    }\n",
       "\n",
       "    .dataframe tbody tr th {\n",
       "        vertical-align: top;\n",
       "    }\n",
       "\n",
       "    .dataframe thead th {\n",
       "        text-align: right;\n",
       "    }\n",
       "</style>\n",
       "<table border=\"1\" class=\"dataframe\">\n",
       "  <thead>\n",
       "    <tr style=\"text-align: right;\">\n",
       "      <th></th>\n",
       "      <th>Model</th>\n",
       "      <th>AUC</th>\n",
       "      <th>Accuracy</th>\n",
       "    </tr>\n",
       "  </thead>\n",
       "  <tbody>\n",
       "    <tr>\n",
       "      <th>0</th>\n",
       "      <td>Baseline</td>\n",
       "      <td>0.500000</td>\n",
       "      <td>0.528887</td>\n",
       "    </tr>\n",
       "    <tr>\n",
       "      <th>1</th>\n",
       "      <td>Logistic Regression</td>\n",
       "      <td>0.879902</td>\n",
       "      <td>0.784785</td>\n",
       "    </tr>\n",
       "    <tr>\n",
       "      <th>2</th>\n",
       "      <td>Naive Bayes</td>\n",
       "      <td>0.895408</td>\n",
       "      <td>0.821627</td>\n",
       "    </tr>\n",
       "    <tr>\n",
       "      <th>3</th>\n",
       "      <td>Naive Bayes B</td>\n",
       "      <td>0.525470</td>\n",
       "      <td>0.551543</td>\n",
       "    </tr>\n",
       "    <tr>\n",
       "      <th>4</th>\n",
       "      <td>Decision Tree</td>\n",
       "      <td>0.753343</td>\n",
       "      <td>0.756776</td>\n",
       "    </tr>\n",
       "    <tr>\n",
       "      <th>5</th>\n",
       "      <td>SVM-Linear</td>\n",
       "      <td>0.881489</td>\n",
       "      <td>0.791863</td>\n",
       "    </tr>\n",
       "    <tr>\n",
       "      <th>6</th>\n",
       "      <td>SVM-RBF</td>\n",
       "      <td>0.868920</td>\n",
       "      <td>0.535844</td>\n",
       "    </tr>\n",
       "    <tr>\n",
       "      <th>7</th>\n",
       "      <td>Random Forest</td>\n",
       "      <td>0.894399</td>\n",
       "      <td>0.807562</td>\n",
       "    </tr>\n",
       "  </tbody>\n",
       "</table>\n",
       "</div>"
      ],
      "text/plain": [
       "                 Model       AUC  Accuracy\n",
       "0             Baseline  0.500000  0.528887\n",
       "1  Logistic Regression  0.879902  0.784785\n",
       "2          Naive Bayes  0.895408  0.821627\n",
       "3        Naive Bayes B  0.525470  0.551543\n",
       "4        Decision Tree  0.753343  0.756776\n",
       "5           SVM-Linear  0.881489  0.791863\n",
       "6              SVM-RBF  0.868920  0.535844\n",
       "7        Random Forest  0.894399  0.807562"
      ]
     },
     "execution_count": 6,
     "metadata": {},
     "output_type": "execute_result"
    }
   ],
   "source": [
    "import pandas as pd\n",
    "from sklearn.model_selection import cross_val_score\n",
    "from sklearn.dummy import DummyClassifier\n",
    "from sklearn.linear_model import LogisticRegression\n",
    "from sklearn.naive_bayes import GaussianNB\n",
    "from sklearn.naive_bayes import BernoulliNB\n",
    "from sklearn.tree import DecisionTreeClassifier\n",
    "from sklearn.svm import SVC\n",
    "from sklearn.ensemble import RandomForestClassifier\n",
    "from sklearn.metrics import roc_auc_score, accuracy_score\n",
    "\n",
    "# Load the dataset\n",
    "data = pd.read_csv('red_wine.csv')\n",
    "\n",
    "# Split the data into features (X) and the target (y)\n",
    "X = data.drop(columns='type')\n",
    "y = data['type']\n",
    "\n",
    "# Define the models\n",
    "models = {\n",
    "    \"Baseline\": DummyClassifier(strategy=\"most_frequent\"),\n",
    "    \"Logistic Regression\": LogisticRegression(),\n",
    "    \"Naive Bayes\": GaussianNB(),\n",
    "    \"Naive Bayes B\" : BernoulliNB(),\n",
    "    \"Decision Tree\": DecisionTreeClassifier(),\n",
    "    \"SVM-Linear\": SVC(kernel='linear'),\n",
    "    \"SVM-RBF\": SVC(kernel='rbf'),\n",
    "    \"Random Forest\": RandomForestClassifier()\n",
    "}\n",
    "\n",
    "# Initialize lists to store AUC and Accuracy scores\n",
    "model_names = []\n",
    "auc_scores = []\n",
    "accuracy_scores = []\n",
    "\n",
    "# Perform 10-fold cross-validation for each model\n",
    "for model_name, model in models.items():\n",
    "    # Calculate AUC scores\n",
    "    auc = cross_val_score(model, X, y, cv=10, scoring='roc_auc')\n",
    "    auc_mean = auc.mean()\n",
    "    \n",
    "    # Calculate Accuracy scores\n",
    "    accuracy = cross_val_score(model, X, y, cv=10, scoring='accuracy')\n",
    "    accuracy_mean = accuracy.mean()\n",
    "\n",
    "    # Append results to lists\n",
    "    model_names.append(model_name)\n",
    "    auc_scores.append(auc_mean)\n",
    "    accuracy_scores.append(accuracy_mean)\n",
    "\n",
    "# Calculate the Baseline AUC and Accuracy\n",
    "baseline_auc = cross_val_score(DummyClassifier(strategy=\"most_frequent\"), X, y, cv=10, scoring='roc_auc').mean()\n",
    "baseline_accuracy = cross_val_score(DummyClassifier(strategy=\"most_frequent\"), X, y, cv=10, scoring='accuracy').mean()\n",
    "\n",
    "# Create DataFrames for results\n",
    "results_df = pd.DataFrame({\n",
    "    \"Model\": model_names,\n",
    "    \"AUC\": auc_scores,\n",
    "    \"Accuracy\": accuracy_scores\n",
    "})\n",
    "\n",
    "'''\n",
    "baseline_results = pd.DataFrame({\n",
    "    \"Model\": [\"Baseline\"],\n",
    "    \"AUC\": [baseline_auc],\n",
    "    \"Accuracy\": [baseline_accuracy]\n",
    "})\n",
    "'''\n",
    "\n",
    "# Concatenate DataFrames\n",
    "results_df = pd.concat([results_df], ignore_index=True)\n",
    "\n",
    "# Print the DataFrame\n",
    "results_df\n"
   ]
  },
  {
   "cell_type": "code",
   "execution_count": 10,
   "id": "9fc9766b",
   "metadata": {},
   "outputs": [
    {
     "data": {
      "image/png": "[encoded data removed]",
      "text/plain": [
       "<Figure size 640x480 with 1 Axes>"
      ]
     },
     "metadata": {},
     "output_type": "display_data"
    },
    {
     "data": {
      "image/png": "[encoded data removed]",
      "text/plain": [
       "<Figure size 640x480 with 1 Axes>"
      ]
     },
     "metadata": {},
     "output_type": "display_data"
    }
   ],
   "source": [
    "import pandas as pd\n",
    "from sklearn.model_selection import train_test_split\n",
    "from sklearn.ensemble import RandomForestClassifier\n",
    "from sklearn.metrics import roc_curve, auc\n",
    "import matplotlib.pyplot as plt\n",
    "%matplotlib inline\n",
    "\n",
    "# Load the dataset\n",
    "data = pd.read_csv('red_wine.csv')\n",
    "\n",
    "# Convert string labels to binary labels. For instance, let's assume 'high' is the positive class.\n",
    "data['binary_type'] = data['type'].apply(lambda x: 1 if x == 'high' else 0)\n",
    "\n",
    "# Split the data into features (X) and the target (y)\n",
    "X = data.drop(columns=['type', 'binary_type'])  # dropping the original 'type' column\n",
    "y = data['binary_type']  # using the binary labels\n",
    "\n",
    "# Split the data into training and testing sets\n",
    "X_train, X_test, y_train, y_test = train_test_split(X, y, test_size=0.2, random_state=42)\n",
    "\n",
    "# Initialize the model\n",
    "rf = RandomForestClassifier()\n",
    "\n",
    "# Train the model\n",
    "rf.fit(X_train, y_train)\n",
    "\n",
    "# Predict the probabilities of the positive class\n",
    "y_score = rf.predict_proba(X_test)[:, 1]  # getting probabilities for the positive class\n",
    "\n",
    "# Compute ROC curve and ROC area. We specify the positive label. \n",
    "# If 'high' is your positive class, the pos_label should be 1 after your label binarization above.\n",
    "fpr, tpr, _ = roc_curve(y_test, y_score, pos_label=1)  # pos_label is the label of the positive class\n",
    "roc_auc = auc(fpr, tpr)\n",
    "\n",
    "# Plot the ROC curve\n",
    "plt.figure()\n",
    "lw = 2\n",
    "plt.plot(fpr, tpr, color='darkorange', lw=lw, label='ROC curve (area = %0.2f)' % roc_auc)\n",
    "plt.plot([0, 1], [0, 1], color='navy', lw=lw, linestyle='--')\n",
    "plt.xlim([0.0, 1.0])\n",
    "plt.ylim([0.0, 1.05])\n",
    "plt.xlabel('False Positive Rate')\n",
    "plt.ylabel('True Positive Rate')\n",
    "plt.title('Receiver Operating Characteristic (ROC) - Random Forest')\n",
    "plt.legend(loc=\"lower right\")\n",
    "plt.show()\n"
   ]
  },
  {
   "cell_type": "markdown",
   "id": "499864b2",
   "metadata": {},
   "source": [
    "### Q4 Unsure about this"
   ]
  },
  {
   "cell_type": "code",
   "execution_count": 8,
   "id": "0cdee14b",
   "metadata": {},
   "outputs": [
    {
     "name": "stdout",
     "output_type": "stream",
     "text": [
      "AUC Score: 0.50\n"
     ]
    }
   ],
   "source": [
    "from sklearn.naive_bayes import BernoulliNB\n",
    "from sklearn.model_selection import train_test_split\n",
    "\n",
    "df = pd.read_csv(\"white_wine.csv\")\n",
    "feature_columns = [\"citric acid\",\"sulphates\",\"alcohol\"]  \n",
    "target_column = 'type'\n",
    "\n",
    "# Assuming you have df, feature_columns, and target_column defined\n",
    "# Extract features (X) and target (y) from the DataFrame\n",
    "X = df[feature_columns].values\n",
    "y = df[target_column].values\n",
    "\n",
    "# Split the dataset into training and testing sets\n",
    "X_train, X_test, y_train, y_test = train_test_split(X, y, test_size=0.2, random_state=42)\n",
    "\n",
    "# Create and train the Bernoulli Naive Bayes classifier\n",
    "bernoulli_naive_bayes_classifier = BernoulliNB()\n",
    "bernoulli_naive_bayes_classifier.fit(X_train, y_train)\n",
    "\n",
    "# Make predictions on the test set\n",
    "predictions = bernoulli_naive_bayes_classifier.predict(X_test)\n",
    "\n",
    "# Calculate the predicted probabilities for the positive class\n",
    "predicted_probabilities = bernoulli_naive_bayes_classifier.predict_proba(X_test)[:, 1]\n",
    "\n",
    "# Calculate AUC score\n",
    "auc_score = roc_auc_score(y_test, predicted_probabilities)\n",
    "\n",
    "# Print the AUC score and confusion matrix\n",
    "print(f'AUC Score: {auc_score:.2f}')"
   ]
  },
  {
   "cell_type": "markdown",
   "id": "dec61981",
   "metadata": {},
   "source": [
    "## Gaussain Naive bayes"
   ]
  },
  {
   "cell_type": "code",
   "execution_count": 11,
   "id": "c4760f1b",
   "metadata": {},
   "outputs": [
    {
     "name": "stdout",
     "output_type": "stream",
     "text": [
      "AUC Score: 0.93\n"
     ]
    }
   ],
   "source": [
    "from sklearn.naive_bayes import GaussianNB\n",
    "from sklearn.model_selection import train_test_split\n",
    "\n",
    "df = pd.read_csv(\"white_wine.csv\")\n",
    "feature_columns = [\"citric acid\",\"sulphates\",\"alcohol\"]  \n",
    "target_column = 'type'\n",
    "\n",
    "# Assuming you have df, feature_columns, and target_column defined\n",
    "# Extract features (X) and target (y) from the DataFrame\n",
    "X = df[feature_columns].values\n",
    "y = df[target_column].values\n",
    "\n",
    "# Split the dataset into training and testing sets\n",
    "X_train, X_test, y_train, y_test = train_test_split(X, y, test_size=0.2, random_state=42)\n",
    "\n",
    "# Create and train the Bernoulli Naive Bayes classifier\n",
    "bernoulli_naive_bayes_classifier = GaussianNB()\n",
    "bernoulli_naive_bayes_classifier.fit(X_train, y_train)\n",
    "\n",
    "# Make predictions on the test set\n",
    "predictions = bernoulli_naive_bayes_classifier.predict(X_test)\n",
    "\n",
    "# Calculate the predicted probabilities for the positive class\n",
    "predicted_probabilities = bernoulli_naive_bayes_classifier.predict_proba(X_test)[:, 1]\n",
    "\n",
    "# Calculate AUC score\n",
    "auc_score = roc_auc_score(y_test, predicted_probabilities)\n",
    "\n",
    "# Print the AUC score and confusion matrix\n",
    "print(f'AUC Score: {auc_score:.2f}')"
   ]
  },
  {
   "cell_type": "markdown",
   "id": "f2991f49",
   "metadata": {},
   "source": [
    "### Diferent results for same function"
   ]
  },
  {
   "cell_type": "code",
   "execution_count": 9,
   "id": "8072c223",
   "metadata": {},
   "outputs": [
    {
     "data": {
      "text/html": [
       "<div>\n",
       "<style scoped>\n",
       "    .dataframe tbody tr th:only-of-type {\n",
       "        vertical-align: middle;\n",
       "    }\n",
       "\n",
       "    .dataframe tbody tr th {\n",
       "        vertical-align: top;\n",
       "    }\n",
       "\n",
       "    .dataframe thead th {\n",
       "        text-align: right;\n",
       "    }\n",
       "</style>\n",
       "<table border=\"1\" class=\"dataframe\">\n",
       "  <thead>\n",
       "    <tr style=\"text-align: right;\">\n",
       "      <th></th>\n",
       "      <th>Model</th>\n",
       "      <th>AUC</th>\n",
       "      <th>Accuracy</th>\n",
       "    </tr>\n",
       "  </thead>\n",
       "  <tbody>\n",
       "    <tr>\n",
       "      <th>0</th>\n",
       "      <td>Baseline</td>\n",
       "      <td>0.500000</td>\n",
       "      <td>0.783929</td>\n",
       "    </tr>\n",
       "    <tr>\n",
       "      <th>1</th>\n",
       "      <td>Logistic Regression</td>\n",
       "      <td>0.966667</td>\n",
       "      <td>0.858929</td>\n",
       "    </tr>\n",
       "    <tr>\n",
       "      <th>2</th>\n",
       "      <td>Naive Bayes</td>\n",
       "      <td>0.950000</td>\n",
       "      <td>0.932143</td>\n",
       "    </tr>\n",
       "    <tr>\n",
       "      <th>3</th>\n",
       "      <td>Naive Bayes B</td>\n",
       "      <td>0.575000</td>\n",
       "      <td>0.821429</td>\n",
       "    </tr>\n",
       "    <tr>\n",
       "      <th>4</th>\n",
       "      <td>Decision Tree</td>\n",
       "      <td>0.775000</td>\n",
       "      <td>0.858929</td>\n",
       "    </tr>\n",
       "    <tr>\n",
       "      <th>5</th>\n",
       "      <td>SVM-Linear</td>\n",
       "      <td>0.966667</td>\n",
       "      <td>0.858929</td>\n",
       "    </tr>\n",
       "    <tr>\n",
       "      <th>6</th>\n",
       "      <td>SVM-RBF</td>\n",
       "      <td>0.913095</td>\n",
       "      <td>0.783929</td>\n",
       "    </tr>\n",
       "    <tr>\n",
       "      <th>7</th>\n",
       "      <td>Random Forest</td>\n",
       "      <td>0.962500</td>\n",
       "      <td>0.923214</td>\n",
       "    </tr>\n",
       "  </tbody>\n",
       "</table>\n",
       "</div>"
      ],
      "text/plain": [
       "                 Model       AUC  Accuracy\n",
       "0             Baseline  0.500000  0.783929\n",
       "1  Logistic Regression  0.966667  0.858929\n",
       "2          Naive Bayes  0.950000  0.932143\n",
       "3        Naive Bayes B  0.575000  0.821429\n",
       "4        Decision Tree  0.775000  0.858929\n",
       "5           SVM-Linear  0.966667  0.858929\n",
       "6              SVM-RBF  0.913095  0.783929\n",
       "7        Random Forest  0.962500  0.923214"
      ]
     },
     "execution_count": 9,
     "metadata": {},
     "output_type": "execute_result"
    }
   ],
   "source": [
    "import pandas as pd\n",
    "from sklearn.model_selection import cross_val_score\n",
    "from sklearn.dummy import DummyClassifier\n",
    "from sklearn.linear_model import LogisticRegression\n",
    "from sklearn.naive_bayes import GaussianNB\n",
    "from sklearn.naive_bayes import BernoulliNB\n",
    "from sklearn.tree import DecisionTreeClassifier\n",
    "from sklearn.svm import SVC\n",
    "from sklearn.ensemble import RandomForestClassifier\n",
    "from sklearn.metrics import roc_auc_score, accuracy_score\n",
    "\n",
    "# Load the dataset\n",
    "data = pd.read_csv('white_wine.csv')\n",
    "\n",
    "# Split the data into features (X) and the target (y)\n",
    "X = data.drop(columns='type')\n",
    "y = data['type']\n",
    "\n",
    "# Define the models\n",
    "models = {\n",
    "    \"Baseline\": DummyClassifier(strategy=\"most_frequent\"),\n",
    "    \"Logistic Regression\": LogisticRegression(),\n",
    "    \"Naive Bayes\": GaussianNB(),\n",
    "    \"Naive Bayes B\" : BernoulliNB(),\n",
    "    \"Decision Tree\": DecisionTreeClassifier(),\n",
    "    \"SVM-Linear\": SVC(kernel='linear'),\n",
    "    \"SVM-RBF\": SVC(kernel='rbf'),\n",
    "    \"Random Forest\": RandomForestClassifier()\n",
    "}\n",
    "\n",
    "# Initialize lists to store AUC and Accuracy scores\n",
    "model_names = []\n",
    "auc_scores = []\n",
    "accuracy_scores = []\n",
    "\n",
    "# Perform 10-fold cross-validation for each model\n",
    "for model_name, model in models.items():\n",
    "    # Calculate AUC scores\n",
    "    auc = cross_val_score(model, X, y, cv=10, scoring='roc_auc')\n",
    "    auc_mean = auc.mean()\n",
    "    \n",
    "    # Calculate Accuracy scores\n",
    "    accuracy = cross_val_score(model, X, y, cv=10, scoring='accuracy')\n",
    "    accuracy_mean = accuracy.mean()\n",
    "\n",
    "    # Append results to lists\n",
    "    model_names.append(model_name)\n",
    "    auc_scores.append(auc_mean)\n",
    "    accuracy_scores.append(accuracy_mean)\n",
    "\n",
    "# Calculate the Baseline AUC and Accuracy\n",
    "baseline_auc = cross_val_score(DummyClassifier(strategy=\"most_frequent\"), X, y, cv=10, scoring='roc_auc').mean()\n",
    "baseline_accuracy = cross_val_score(DummyClassifier(strategy=\"most_frequent\"), X, y, cv=10, scoring='accuracy').mean()\n",
    "\n",
    "# Create DataFrames for results\n",
    "results_df = pd.DataFrame({\n",
    "    \"Model\": model_names,\n",
    "    \"AUC\": auc_scores,\n",
    "    \"Accuracy\": accuracy_scores\n",
    "})\n",
    "\n",
    "'''\n",
    "baseline_results = pd.DataFrame({\n",
    "    \"Model\": [\"Baseline\"],\n",
    "    \"AUC\": [baseline_auc],\n",
    "    \"Accuracy\": [baseline_accuracy]\n",
    "})\n",
    "'''\n",
    "\n",
    "# Concatenate DataFrames\n",
    "results_df = pd.concat([results_df], ignore_index=True)\n",
    "\n",
    "# Print the DataFrame\n",
    "results_df\n"
   ]
  },
  {
   "cell_type": "code",
   "execution_count": null,
   "id": "901a0d06",
   "metadata": {},
   "outputs": [],
   "source": []
  }
 ],
 "metadata": {
  "kernelspec": {
   "display_name": "Python 3 (ipykernel)",
   "language": "python",
   "name": "python3"
  },
  "language_info": {
   "codemirror_mode": {
    "name": "ipython",
    "version": 3
   },
   "file_extension": ".py",
   "mimetype": "text/x-python",
   "name": "python",
   "nbconvert_exporter": "python",
   "pygments_lexer": "ipython3",
   "version": "3.10.9"
  }
 },
 "nbformat": 4,
 "nbformat_minor": 5
}
